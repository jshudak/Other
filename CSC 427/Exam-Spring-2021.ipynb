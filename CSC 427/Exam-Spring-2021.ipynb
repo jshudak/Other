{
 "cells": [
  {
   "cell_type": "markdown",
   "metadata": {},
   "source": [
    "##### The total is 100 + 5 points. <br>\n",
    "There are 20 single-choice questions, each of which is worth 3 points. <br>\n",
    "There are 4 questions about implementation, each of which is worth 10 points. Test your functions. <br>\n",
    "Extra 5 points  come from question 25. <br>\n",
    "\n",
    "You can directly write your answers in this notebook. <br>\n",
    "However, I highly suggest that you write your answers in a .py file using Spyder IDE if you are not familar with notebook.\n",
    "\n",
    "Upload the notebook (if you write answers in this notebook) or the .py file to blackboard\n",
    "\n",
    "You may use Spyder IDE to run the code in the questions, and use your handwritten note page. <br>"
   ]
  },
  {
   "cell_type": "markdown",
   "metadata": {},
   "source": [
    "### Example Question\n",
    "Who invented Python programming language ? <br>\n",
    "(A) Guido van Rossum <br>\n",
    "(B) Bjarne Stroustrup <br>\n",
    "(C) James Gosling <br>\n",
    "<br>\n",
    "Answer='A'"
   ]
  },
  {
   "cell_type": "markdown",
   "metadata": {},
   "source": [
    "### Question 1\n",
    "Which implementation of Python in Spyder IDE are we using for this course ? <br>\n",
    "(A) CPython <br>\n",
    "(B) Jython  <br>\n",
    "(C) IronPython  <br>\n",
    "(D) PyPy  <br>"
   ]
  },
  {
   "cell_type": "code",
   "execution_count": 1,
   "metadata": {},
   "outputs": [],
   "source": [
    "Answer1='A'"
   ]
  },
  {
   "cell_type": "markdown",
   "metadata": {},
   "source": [
    "### Question 2\n",
    "Which one is ``an assignment statement`` ? <br>\n",
    "(A) 1 + 1  <br>\n",
    "(B) print('a') <br>\n",
    "(C) x = 100 <br>\n",
    "(D) 1 < 2 <br>"
   ]
  },
  {
   "cell_type": "code",
   "execution_count": 2,
   "metadata": {},
   "outputs": [],
   "source": [
    "Answer2='C'"
   ]
  },
  {
   "cell_type": "markdown",
   "metadata": {},
   "source": [
    "### Question 3\n",
    "Which of the following statements is ``WRONG`` about Variable? <br>\n",
    "(A) A variable is used as a name (i.e. identifier) of an object. So we can say a variable refers to an object <br>\n",
    "(B) A variable is 'attached' to an object in an assignment statement <br>\n",
    "(C) A variable can refer to more than one object at the same time <br>\n",
    "(D) Two variables can refer to the same object (i.e. an object can have multiple names)"
   ]
  },
  {
   "cell_type": "code",
   "execution_count": 3,
   "metadata": {},
   "outputs": [],
   "source": [
    "Answer3='C'"
   ]
  },
  {
   "cell_type": "markdown",
   "metadata": {},
   "source": [
    "### Question 4\n",
    "Which of the following statements is ``WRONG`` about Object? <br>\n",
    "(A) An object has an id, which can be obtained by using the function ``id`` <br>\n",
    "(B) An object has a type, which can be obtained by using the function ``type``<br>\n",
    "(C) int numbers (type: int, e.g., 10) in Python are not objects <br>\n",
    "(D) The id of an object is unique during  the lifetime of the object"
   ]
  },
  {
   "cell_type": "code",
   "execution_count": 4,
   "metadata": {},
   "outputs": [],
   "source": [
    "Answer4='C'"
   ]
  },
  {
   "cell_type": "markdown",
   "metadata": {},
   "source": [
    "### Question 5\n",
    "Which of the following data types does ``NOT exist`` in Python <br>\n",
    "(A) int <br>\n",
    "(B) float <br>\n",
    "(C) str <br>\n",
    "(D) char <br>\n",
    "Hint: names of data types are also names of functions in Python"
   ]
  },
  {
   "cell_type": "code",
   "execution_count": 5,
   "metadata": {},
   "outputs": [],
   "source": [
    "Answer5='D'"
   ]
  },
  {
   "cell_type": "markdown",
   "metadata": {},
   "source": [
    "### Question 6\n",
    "A program has three lines of code <br>\n",
    "```python\n",
    "x = 'a'\n",
    "y = 1\n",
    "x = y\n",
    "```\n",
    "Which of the following statements is ``WRONG`` about the third line of the program? <br> \n",
    "(A) x is assigned with the value of y <br> \n",
    "(B) x and y both refer to the same object  <br> \n",
    "(C) str 'a' is converted to int 1 <br> \n",
    "(D) id(x) is the same as id(y)  <br> "
   ]
  },
  {
   "cell_type": "code",
   "execution_count": 6,
   "metadata": {},
   "outputs": [],
   "source": [
    "Answer6='C'"
   ]
  },
  {
   "cell_type": "markdown",
   "metadata": {},
   "source": [
    "### Question 7\n",
    "Which of the following statements about numbers in Python is ``CORRECT`` ? <br>\n",
    "(A) Floating point numbers (type is float) can accurately represent any real number, no matter how large the real number is <br> \n",
    "(B) Commas can be used in an integer literal so that code is more readable, e.g., ``x = 1,000`` which means x is one thousand <br> \n",
    "(C) int numbers (type is int) can accurately represent any integers as long as computer memory is big enough <br>\n",
    "(D) The value of the expression ``5 // 10`` is 0.5"
   ]
  },
  {
   "cell_type": "code",
   "execution_count": 3,
   "metadata": {},
   "outputs": [
    {
     "data": {
      "text/plain": [
       "0"
      ]
     },
     "execution_count": 3,
     "metadata": {},
     "output_type": "execute_result"
    }
   ],
   "source": [
    "Answer7='C'"
   ]
  },
  {
   "cell_type": "markdown",
   "metadata": {},
   "source": [
    "### Question 8\n",
    "Which operator is evaluated first? \n",
    "```python\n",
    "    1 + 2 < 3 - 4 * 5\n",
    "```\n",
    "(A) + <br>\n",
    "(B) - <br>\n",
    "(C) * <br>\n",
    "(D) < <br>\n",
    "Note: If you are not sure, read \"Operator precedence\" in https://docs.python.org/3/reference/expressions.html"
   ]
  },
  {
   "cell_type": "code",
   "execution_count": 8,
   "metadata": {},
   "outputs": [],
   "source": [
    "Answer8='C'"
   ]
  },
  {
   "cell_type": "markdown",
   "metadata": {},
   "source": [
    "### Question 9\n",
    "\n",
    "```python\n",
    "i = 10\n",
    "x=0\n",
    "if 0 < i < 1:\n",
    "    x=1\n",
    "else:\n",
    "    x=2\n",
    "elif i >= 1:\n",
    "    x=3\n",
    "```\n",
    "After you run the above program (copy & paste it in Spyder), you will see \"SyntaxError: invalid syntax\" because: <br>\n",
    "(A) a ``:`` is missing <br>\n",
    "(B) a ``,`` is missing <br>\n",
    "(C) ``else`` is used before ``elif`` <br>\n",
    "(D) a ``;`` is missing <br>"
   ]
  },
  {
   "cell_type": "code",
   "execution_count": 9,
   "metadata": {},
   "outputs": [],
   "source": [
    "Answer9='C'"
   ]
  },
  {
   "cell_type": "markdown",
   "metadata": {},
   "source": [
    "### Question 10\n",
    "What is the total number of iterations of the for loop? <br>\n",
    "In other words, how many times will this line of code ``print(n)`` in the for loop be executed ?\n",
    "```python\n",
    "for n in range(0, 6, 2):\n",
    "    print(n)\n",
    "```    \n",
    "(A) 0 <br>\n",
    "(B) 1 <br>\n",
    "(C) 2 <br>\n",
    "(D) 3 <br>"
   ]
  },
  {
   "cell_type": "code",
   "execution_count": 4,
   "metadata": {},
   "outputs": [
    {
     "name": "stdout",
     "output_type": "stream",
     "text": [
      "0\n",
      "2\n",
      "4\n"
     ]
    }
   ],
   "source": [
    "Answer10='D'"
   ]
  },
  {
   "cell_type": "markdown",
   "metadata": {},
   "source": [
    "### Question 11\n",
    "Which of the following statements about List is ``WRONG`` ?<br> \n",
    "(A) ``[]`` defines an empty list <br> \n",
    "(B) All elements of a list must have the same type  <br> \n",
    "(C) A new element can be appended to a list <br> \n",
    "(D) Any element of a list can be deleted <br> "
   ]
  },
  {
   "cell_type": "code",
   "execution_count": 11,
   "metadata": {},
   "outputs": [],
   "source": [
    "Answer11='B'"
   ]
  },
  {
   "cell_type": "markdown",
   "metadata": {},
   "source": [
    "### Question 12\n",
    "Assume that the variable P refers to a list, and ``len(P)`` is 100. Which of the following statements is ``WRONG`` ?<br> \n",
    "(A) P[-1] is the last element of the list <br> \n",
    "(B) P[len(P)-1] is the last element of the list <br> \n",
    "(C) P[1:-1] is the same as P[1:] <br> \n",
    "(D) P[0:-1] is the same as P[:-1] <br> "
   ]
  },
  {
   "cell_type": "code",
   "execution_count": 12,
   "metadata": {},
   "outputs": [],
   "source": [
    "Answer12='C'"
   ]
  },
  {
   "cell_type": "markdown",
   "metadata": {},
   "source": [
    "### Question 13\n",
    "a for loop:\n",
    "```python\n",
    "P = ['a']\n",
    "for n in range(0, len(P)):\n",
    "    P.append('a')\n",
    "    print(n)\n",
    "```\n",
    "a while loop:\n",
    "```python\n",
    "P = ['a']\n",
    "n=0\n",
    "while n < len(P):\n",
    "    P.append('a')\n",
    "    print(n)\n",
    "    n=n+1    \n",
    "```\n",
    "Which of the following statements is ``CORRECT`` about the above for loop and while loop ?<br> \n",
    "(A) The two loops do the same thing <br> \n",
    "(B) The for loop has an infinite number of iterations (i.e., it is an infinite loop) <br> \n",
    "(C) In the for loop, ``len(P)`` is evalauted after every interation <br> \n",
    "(D) The while loop has an infinite number of iterations (i.e., it is an infinite loop) <br> "
   ]
  },
  {
   "cell_type": "code",
   "execution_count": 13,
   "metadata": {},
   "outputs": [],
   "source": [
    "Answer13='C'"
   ]
  },
  {
   "cell_type": "markdown",
   "metadata": {},
   "source": [
    "### Question 14\n",
    "\n",
    "```python\n",
    "NameList = ['Robert', 'John', 'James', 'William', 'Charles']\n",
    "if 'George' and 'John' in NameList:\n",
    "    print(\"NameList contains John and George\")\n",
    "```\n",
    "The above program has a functional bug. Which one in (A) to (D) can fix the bug ? <br>\n",
    "(A) replace ``'George' and 'John'`` with ``('George' and 'John')`` <br>\n",
    "(B) replace ``if 'George'`` with ``if 'George' in NameList`` <br>\n",
    "(C) replace ``'George' and 'John'`` with ``'George' or 'John'`` <br>\n",
    "(D) replace ``in`` with ``not in`` <br>"
   ]
  },
  {
   "cell_type": "code",
   "execution_count": 14,
   "metadata": {},
   "outputs": [],
   "source": [
    "Answer14='B'"
   ]
  },
  {
   "cell_type": "markdown",
   "metadata": {},
   "source": [
    "### Question 15\n",
    "A break statement in a loop causes an immediate exit of the loop.\n",
    "```python\n",
    "Board=[[' ', ' ', ' '],\n",
    "       [' ', 'X', ' '],\n",
    "       [' ', ' ', ' ']]\n",
    "\n",
    "for i in range(0, 3):\n",
    "    print('i =', i)\n",
    "    for j in range(0, 3):\n",
    "        if Board[i][j] == 'X':\n",
    "            print('break at i =', i, ', j =', j)\n",
    "            break\n",
    "```            \n",
    "The above program has a nested for loop: an inner loop (for j) and an outer loop (for i). <br>\n",
    "Which of the following statements is ``CORRECT`` ? <br>\n",
    "(A) The ``break`` statement stops both inner and outer loops  <br>\n",
    "(B) The ``break`` statement only stops the inner for loop (for j)  <br>"
   ]
  },
  {
   "cell_type": "code",
   "execution_count": 15,
   "metadata": {},
   "outputs": [],
   "source": [
    "Answer15='B'"
   ]
  },
  {
   "cell_type": "markdown",
   "metadata": {},
   "source": [
    "### Question 16\n",
    "a dictionary is a collection of key-value pairs\n",
    "```python\n",
    "A={'a':1, 'b':2, 'c':3}\n",
    "for x, y in A.items():\n",
    "    A[x]=y+1\n",
    "print(A)\n",
    "```    \n",
    "Which of the following statements is ``CORRECT`` about x and y in the above for loop ? <br>\n",
    "(A) x refers to a value and y refers to a key <br>\n",
    "(B) x refers to a key and y refers to a value <br>\n",
    "(C) x refers to a value and y refers to another value <br>\n",
    "(D) x refers to a key and y refers to another key <br>"
   ]
  },
  {
   "cell_type": "code",
   "execution_count": 16,
   "metadata": {},
   "outputs": [],
   "source": [
    "Answer16='B'"
   ]
  },
  {
   "cell_type": "markdown",
   "metadata": {},
   "source": [
    "### Question 17\n",
    "\n",
    "What data types can be used as ``keys`` in a dictionary ? <br>\n",
    "(A) str, int, float, tuple <br> \n",
    "(B) list and dict <br>\n",
    "(C) any data types in Python  <br>\n",
    "Note: if you are not sure, write some examples"
   ]
  },
  {
   "cell_type": "code",
   "execution_count": 17,
   "metadata": {},
   "outputs": [],
   "source": [
    "Answer17='A'"
   ]
  },
  {
   "cell_type": "markdown",
   "metadata": {},
   "source": [
    "### Question 18\n",
    "```python\n",
    "def Multiply(x1, x2):\n",
    "    y = x1 * x2\n",
    "#end\n",
    "a=10\n",
    "b=20\n",
    "c=Multiply(x1=a, x2=b)\n",
    "```\n",
    "Which of the following statements is ``WRONG`` about the above program ? <br>\n",
    "(A) ``x1=a`` is a keyword argument <br>\n",
    "(B) The function should return ``y`` <br>\n",
    "(C) The variable ``Multiply`` refers to a function object <br>\n",
    "(D) The value of ``c`` is 200 after the program is executed"
   ]
  },
  {
   "cell_type": "code",
   "execution_count": 18,
   "metadata": {},
   "outputs": [],
   "source": [
    "Answer18='B'"
   ]
  },
  {
   "cell_type": "markdown",
   "metadata": {},
   "source": [
    "### Question 19\n",
    "```python\n",
    "def Add(x1, x2):\n",
    "    r = x1 + x\n",
    "    return r\n",
    "#end\n",
    "x=1\n",
    "y=2\n",
    "z=Add(x, y)\n",
    "```\n",
    "Which of the following statements is ``WRONG`` about the above program ? <br>\n",
    "(A) ``x`` is a global variable <br>\n",
    "(B) ``x`` is a local variable defined inside the function Add <br>\n",
    "(C) ``r`` is a local variable defined inside the function Add <br>\n",
    "(D) The value of ``z`` is 2"
   ]
  },
  {
   "cell_type": "code",
   "execution_count": 19,
   "metadata": {},
   "outputs": [],
   "source": [
    "Answer19='A'"
   ]
  },
  {
   "cell_type": "markdown",
   "metadata": {},
   "source": [
    "### Question 20\n",
    "In a nested function call, a function call is passed as an argument to another function.\n",
    "For example:\n",
    "```python\n",
    "user_input = float(input('please input a number:'))\n",
    "```\n",
    "input('please input a float number:') is a function call, which is passed as an argument to the function float <br>\n",
    "\n",
    "Which of the following statements is ``WRONG`` about the above nested function call ? <br>\n",
    "(A) The function input always returns a string which could be an empty string <br>\n",
    "(B) The function float can convert any input string into a number without causing any errors <br>\n",
    "(C) user_input is a float number if the program does not crash <br>\n",
    "(D) try-except is usually needed to handle exceptions"
   ]
  },
  {
   "cell_type": "code",
   "execution_count": 20,
   "metadata": {},
   "outputs": [],
   "source": [
    "Answer20='B'"
   ]
  },
  {
   "cell_type": "markdown",
   "metadata": {},
   "source": [
    "## You will implement four functions for Questions 21~24. \n",
    "The description of each function is long... <br>\n",
    "But, each function can be implemented using ~10 (or less) lines of code. <br>\n",
    "Of course, you can write more lines of code as long as the functions work <br>"
   ]
  },
  {
   "cell_type": "markdown",
   "metadata": {},
   "source": [
    "### Question 21 - Implementation\n",
    "Implement a function (named Answer21), which takes as input three numbers and returns the max of the three numbers. <br>\n",
    "Do NOT use the built-in function max in Python <br>\n",
    "```python\n",
    "def Answer21(x, y, z):\n",
    "    # parameters: x, y, z, which are numbers\n",
    "    # return: the max of the three numbers\n",
    "    # For example, Answer21(1, 2, 3) returns 3\n",
    "    # Hint: write if statements to check if x/y/z is the max   \n",
    "    #       a number is the max if it is greater than the other two numbers\n",
    "```"
   ]
  },
  {
   "cell_type": "code",
   "execution_count": 1,
   "metadata": {},
   "outputs": [],
   "source": [
    "def Answer21(x, y, z):\n",
    "    if x > y:\n",
    "        if x >= z:\n",
    "            return x\n",
    "    elif y > z:\n",
    "        if y >= x:\n",
    "            return y\n",
    "    else:\n",
    "        return z"
   ]
  },
  {
   "cell_type": "markdown",
   "metadata": {},
   "source": [
    "### Question 22 - Implementation\n",
    "Implement a function (named Answer22), which is very similar to HumanPlayer in Assignment 2 <br>\n",
    "(1) ask the user to input two real numbers, x and y. (use float instead of int) <br>\n",
    "(2) ``return`` the max of x and y <br>\n",
    "The user may enter some weird stuff: *&^, which will cause an error/exception. So, try-except is needed <br>\n",
    "The function will not return until it gets two numbers from the user. So, a while loop is needed. <br>\n",
    "```python\n",
    "def Answer22():\n",
    "    # parameter: None\n",
    "    # return: the max of x and y from user inputs\n",
    "```"
   ]
  },
  {
   "cell_type": "code",
   "execution_count": 22,
   "metadata": {},
   "outputs": [],
   "source": [
    "def Answer22():\n",
    "    while True:\n",
    "        try:\n",
    "            x = float(input('Enter an x:'))\n",
    "        except:\n",
    "            print('Enter a number next time')\n",
    "            continue\n",
    "        \n",
    "        try:\n",
    "            y = float(input('Enter a y:'))\n",
    "        except:\n",
    "            print('Enter a number next time')\n",
    "            continue\n",
    "        \n",
    "        if x > y:\n",
    "            return x\n",
    "        else:\n",
    "            return y"
   ]
  },
  {
   "cell_type": "markdown",
   "metadata": {},
   "source": [
    "### Question 23 - Implementation\n",
    "This question is about Body Mass Index (BMI): <br>\n",
    "If a person has weight of 80 (kilograms) and height of 1.73 (meters), then BMI can be calculated by: <br>\n",
    "``BMI = weight / (height*height) = 80 /(1.73*1.73) = 26.7``\n",
    "\n",
    "Four general grades are proposed:\n",
    "```\n",
    "-1  :  Underweight     if           BMI < 18.5\n",
    " 0  :  Normal weight   if   18.5 <= BMI < 25.0\n",
    " 1  :  Overweight      if   25.0 <= BMI < 30.0\n",
    " 2  :  Obesity         if   30.0 <= BMI\n",
    "```\n",
    "\n",
    "``Your Task`` is to write a function that takes weight and height as input and returns BMI and Grade.\n",
    "\n",
    "```python\n",
    "def Answer23(weight, height):\n",
    "    # parameters: weight, height\n",
    "    # returns: BMI and Grade\n",
    "    # step-1: calculate BMI using the equation\n",
    "    # step-2: determine Grade\n",
    "    #         Grade = -1 ~  Underweight\n",
    "    #         Grade =  0 ~  Normal weight\n",
    "    #         Grade =  1 ~  Overweight\n",
    "    #         Grade =  2 ~  Obesity \n",
    "    # step-3: return BMI and Grade\n",
    "    # For example, Answer23(80, 1.73) returns (26.7, 1)\n",
    "\n",
    "    return (BMI, Grade)\n",
    "```\n",
    "OK, the function looks like Judge in the assignments ..."
   ]
  },
  {
   "cell_type": "code",
   "execution_count": 23,
   "metadata": {
    "scrolled": true
   },
   "outputs": [],
   "source": [
    "def Answer23(weight, height):\n",
    "    BMI = weight / (height*height)\n",
    "    if BMI < 18.5:\n",
    "        return (BMI, -1)\n",
    "    elif BMI < 25:\n",
    "        return(BMI, 0)\n",
    "    elif BMI < 30:\n",
    "        return(BMI, 1)\n",
    "    else:\n",
    "        return(BMI, 2)"
   ]
  },
  {
   "cell_type": "markdown",
   "metadata": {},
   "source": [
    "### Question 24  - Implementation\n",
    "Implement a function (named Answer24) that takes as input a string and returns a dictionary <br>\n",
    "The input string contains numbers separated by commas. For example, A = \"1.0,2.0,3.0\"  <br>\n",
    "Note: the input string only contains numbers and commas, no other characters <br>\n",
    "Inside the function, the following tasks are performed: <br>\n",
    "<br>\n",
    "Task-1 is to ``split`` the input string into a list of numbers, e.g., B = [1.0, 2.0, 3.0] <br>\n",
    "Note: use the split method. If you forget how to use it, read zyBooks<br>\n",
    "<br>\n",
    "Task-2 is to calculate:  <br>\n",
    "(1) mean of the numbers in the list, which is sum(B) divided by len(B) <br>\n",
    "(2) max <br>\n",
    "(3) min <br>\n",
    "<br>\n",
    "Task-3 is to build and ``return`` a dictionary that contains three keys: 'mean', 'max', 'min' and  corresponding values from Task-2<br>\n",
    "For example, the returned dictionary is {'mean': 2.0, 'max':3.0, 'min':1.0} for the input A = \"1.0,2.0,3.0\" <br>\n",
    "<br>\n",
    "Special case:<br>\n",
    "the input string may be empty, e.g., A =''  <br>\n",
    "then the function returns a dictionary {'mean': None, 'max':None, 'min':None} <br>\n",
    "The special case should be handled at the beginning of the function <br>\n",
    "<br>\n",
    "You can use the built-in functions, ``max``, ``min`` and ``sum`` in Python <br>\n",
    "See the document about the functions: https://docs.python.org/3/library/functions.html <br>\n",
    "Or you can google them.\n",
    "<br> \n",
    "\n",
    "```python\n",
    "def Answer24(A):\n",
    "    # parameter: A is a string that contains numbers separated by commas\n",
    "    # return: a dictionary which is a summary about the numbers in the string\n",
    "    # For example: Answer23(\"1.0,2.0,3.0\") returns {'mean':2.0, 'max':3.0, 'min':1.0}\n",
    "    \n",
    "```    "
   ]
  },
  {
   "cell_type": "code",
   "execution_count": 24,
   "metadata": {},
   "outputs": [],
   "source": [
    "def Answer24(toDict):\n",
    "    if toDict == '':\n",
    "        return {\n",
    "        'mean':None, 'max':None,\n",
    "        'min':None,\n",
    "        }\n",
    "    \n",
    "    splitStr = toDict.split(',')\n",
    "    \n",
    "    y = 0\n",
    "    while y < len(splitStr):\n",
    "        splitStr[y] = float(splitStr[y])\n",
    "        y += 1\n",
    "        \n",
    "        \n",
    "    mean = sum(splitStr)/len(splitStr)\n",
    "    foundMax = max(splitStr)\n",
    "    foundMin = min(splitStr)\n",
    "    \n",
    "    toReturn = {\n",
    "        'mean':mean, 'max':foundMax,\n",
    "        'min':foundMin,\n",
    "        }\n",
    "    \n",
    "    return toReturn"
   ]
  },
  {
   "cell_type": "markdown",
   "metadata": {},
   "source": [
    "### Question 25 (extra 5 points)\n",
    "We have a list of strings: \n",
    "```python\n",
    "CharList = ['a', 'b', 'c', 'd']\n",
    "```\n",
    "Now, we write a program to delete some elements from the list.  <br> \n",
    "The indexes of the elements to be deleted are stored in IndexList  <br>\n",
    "\n",
    "```Scenario-1```:  IndexList = [3, 0]\n",
    "```python\n",
    "CharList = ['a', 'b', 'c', 'd']\n",
    "IndexList = [3, 0]\n",
    "for n in range(0, len(IndexList)):    \n",
    "    index=IndexList[n]\n",
    "    print(index)\n",
    "    print(CharList[index])\n",
    "    del CharList[index]\n",
    "```\n",
    "The above code works well: 'a' and 'd' are deleted <br>\n",
    "<br>\n",
    "```Scenario-2```:  IndexList = [0, 3]\n",
    "```python\n",
    "CharList = ['a', 'b', 'c', 'd']\n",
    "IndexList = [0, 3]\n",
    "for n in range(0, len(IndexList)):    \n",
    "    index=IndexList[n]\n",
    "    print(index)\n",
    "    print(CharList[index])\n",
    "    del CharList[index]\n",
    "```\n",
    "The above code does not work: You will see \"IndexError: list index out of range\" <br>\n",
    "<br>\n",
    "```Your Task, should you choose to accept it:``` <br>\n",
    "write code to process IndexList so that the elements can be deleted in the for loop <br>\n",
    "<br>\n",
    "Hint: what will happen to CharList after del CharList[index] ?<br>\n",
    "In Spyder IDE: try to delete one element of the list and see what happens; <br>\n",
    "then, try to delete another element of the list and see what happens <br>\n",
    "If you get a rough idea, then see \"5.1. More on List\" on https://docs.python.org/3.6/tutorial/datastructures.html"
   ]
  },
  {
   "cell_type": "code",
   "execution_count": 5,
   "metadata": {
    "scrolled": true
   },
   "outputs": [
    {
     "name": "stdout",
     "output_type": "stream",
     "text": [
      "3\n",
      "d\n",
      "2\n",
      "c\n",
      "1\n",
      "b\n"
     ]
    }
   ],
   "source": [
    "CharList = ['a', 'b', 'c', 'd']\n",
    "IndexList = [2, 3, 1] # It could also be [0,1], [1,3,2], [1, 3], [2, 3], etc\n",
    "#you code starts here to process IndexList\n",
    "IndexList.sort()\n",
    "IndexList.reverse()\n",
    "#you code ends here\n",
    "for n in range(0, len(IndexList)):    \n",
    "    index=IndexList[n]\n",
    "    print(index)\n",
    "    print(CharList[index])\n",
    "    del CharList[index]    "
   ]
  },
  {
   "cell_type": "code",
   "execution_count": null,
   "metadata": {},
   "outputs": [],
   "source": []
  }
 ],
 "metadata": {
  "kernelspec": {
   "display_name": "Python 3",
   "language": "python",
   "name": "python3"
  },
  "language_info": {
   "codemirror_mode": {
    "name": "ipython",
    "version": 3
   },
   "file_extension": ".py",
   "mimetype": "text/x-python",
   "name": "python",
   "nbconvert_exporter": "python",
   "pygments_lexer": "ipython3",
   "version": "3.8.5"
  }
 },
 "nbformat": 4,
 "nbformat_minor": 2
}
